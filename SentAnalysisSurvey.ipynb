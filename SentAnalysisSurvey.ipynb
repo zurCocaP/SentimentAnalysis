{
 "cells": [
  {
   "cell_type": "code",
   "execution_count": 1,
   "metadata": {},
   "outputs": [],
   "source": [
    "key = \"1f70bdcb699c45b88aea61fc0e9dbe9e\"\n",
    "endpoint = \"https://sentimentanalysisusabilla.cognitiveservices.azure.com/\""
   ]
  },
  {
   "cell_type": "code",
   "execution_count": 2,
   "metadata": {},
   "outputs": [],
   "source": [
    "from azure.ai.textanalytics import TextAnalyticsClient\n",
    "from azure.core.credentials import AzureKeyCredential\n",
    "\n",
    "def authenticate_client():\n",
    "    ta_credential = AzureKeyCredential(key)\n",
    "    text_analytics_client = TextAnalyticsClient(\n",
    "            endpoint=endpoint, credential=ta_credential)\n",
    "    return text_analytics_client\n",
    "\n",
    "client = authenticate_client()"
   ]
  },
  {
   "cell_type": "code",
   "execution_count": 3,
   "metadata": {},
   "outputs": [],
   "source": [
    "import pandas as pd"
   ]
  },
  {
   "cell_type": "code",
   "execution_count": 4,
   "metadata": {},
   "outputs": [],
   "source": [
    "dataset = pd.read_csv('export_20200501_HaTS_Survey.csv')"
   ]
  },
  {
   "cell_type": "code",
   "execution_count": 6,
   "metadata": {},
   "outputs": [],
   "source": [
    "textdata = dataset[['id', 'frustrations', 'like_best']]"
   ]
  },
  {
   "cell_type": "code",
   "execution_count": 7,
   "metadata": {},
   "outputs": [],
   "source": [
    "frustData = textdata[textdata['frustrations'].notna()]\n",
    "frustData['text'] = frustData['frustrations']\n",
    "likeData  = textdata[textdata['like_best'].notna()]\n",
    "likeData['text'] = likeData['like_best']"
   ]
  },
  {
   "cell_type": "code",
   "execution_count": 9,
   "metadata": {},
   "outputs": [],
   "source": [
    "batch1 = frustData[['id','text']].to_dict(orient = 'records')\n",
    "batch2 = likeData[['id','text']].to_dict(orient = 'records')"
   ]
  },
  {
   "cell_type": "code",
   "execution_count": 10,
   "metadata": {},
   "outputs": [],
   "source": [
    "result1 = client.analyze_sentiment(batch1)\n",
    "docs1 = [doc for doc in result1 if not doc.is_error]\n",
    "with open('frustrationsLabel.csv', 'w') as file:\n",
    "    for idx, doc in enumerate(docs1):\n",
    "        # print('id: {}, Sentiment: {}'.format(doc.id,doc.sentiment))\n",
    "        file.write(doc.id + ',' + doc.sentiment + '\\n')"
   ]
  },
  {
   "cell_type": "code",
   "execution_count": 27,
   "metadata": {},
   "outputs": [],
   "source": [
    "result2 = client.analyze_sentiment(batch2)\n",
    "docs2 = [doc for doc in result2 if not doc.is_error]\n",
    "with open('like_bestLabel.csv', 'w') as file:\n",
    "    for idx, doc in enumerate(docs2):\n",
    "        # print('id: {}, Sentiment: {}'.format(doc.id,doc.sentiment))\n",
    "        file.write(doc.id + ',' + doc.sentiment + '\\n')"
   ]
  }
 ],
 "metadata": {
  "kernelspec": {
   "display_name": "Python 3.7.6 64-bit ('tf2': conda)",
   "language": "python",
   "name": "python37664bittf2condaefcdba3192e6411284e3c8c30eda058b"
  },
  "language_info": {
   "codemirror_mode": {
    "name": "ipython",
    "version": 3
   },
   "file_extension": ".py",
   "mimetype": "text/x-python",
   "name": "python",
   "nbconvert_exporter": "python",
   "pygments_lexer": "ipython3",
   "version": "3.7.6-final"
  }
 },
 "nbformat": 4,
 "nbformat_minor": 4
}